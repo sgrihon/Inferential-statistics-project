{
 "cells": [
  {
   "cell_type": "markdown",
   "metadata": {},
   "source": [
    "\n",
    "# Stroop effect\n",
    "\n",
    "## Introduction\n",
    "\n",
    "This project investigates the Stroop effect. The Stroop effect shows that some tiny details can deteriorate the brain efficiency in dealing wiht a task. Stroop was an american professor who was the first to identify this phenomenon and put in place tests to experimentally verify this phenomenon.\n",
    "One common test is to detect the color of a word. A first list of words is congruent that is to say the word itself matches the color: for instance the word yellow is yellow and the word orange is orange.\n",
    "\n",
    "<img src=\"stroopa.gif\" />\n",
    "  \n",
    "A second list of words is not congruent. This time, the word does not match the color: for instance the word yellow is orange while the word orange is yellow. This non-congruence effects significantly the performance of the test. We will check this significance in a statistical point of view by putting in place adequate tests. For more details on the stroop effect, consult the following site: [stroop site](https://faculty.washington.edu/chudler/words.html)\n"
   ]
  },
  {
   "cell_type": "markdown",
   "metadata": {},
   "source": [
    "## Test definition (including the answers to project questions)\n",
    "\n",
    "A statistical study has been performed based on a sampling of N=24 individual. Repeated measures were used. This means that for a same individual two measures were practicised: the first measure is based on congruent data while the second measure uses non-congruent data. This is a within subject design. Its advantage is to make easier the study of individual differences. Other advantages are in terms of the number of subjects, the cost and time efficiency.\n",
    "\n",
    "We want to test whether congruence makes the task easier that is to say we want to test if the time is shorter when the list is congruent. We want to base that on a sufficient number of experiences and base on the mean to avoid particular individuals.\n",
    "\n",
    "The most appropriate test is a test on the mean: we will use a Student test (t-test).\n",
    "\n",
    "__Lets us not $\\bar t_C$ the average time for congruent sets and $\\bar t_{NC}$ the average time for non congruent sets in the population. These times are unknown because we do not know the overall population. However using the samples and considering the central limit theorem we can give a probability for the difference to be greater than zero (or a given value) and assess with the samples the significance of the population hypothesis i.e. its probability with respect to a given threshold of risk.__\n",
    "\n",
    "__The null hypothesis is the no-effect hypothesis: $\\mu_C = \\mu_{NC}$. This means that there is no significant difference between the two population means (for congruent sets and incongruent tests).\n",
    "While the alternative hypothesis can be formulated as $\\mu_C < \\mu_{NC} $.\n",
    "We bet here that the effect is really positive and that congruent lists reduces time for naming colors: the test will then be one way.__\n",
    "\n",
    "__Null Hypothesis: _There is no significant difference between congruent and incongruent lists in the population as far as the time to name the colour is concerned_.$$ H_0: \\mu_C = \\mu_{NC}$$__ \n",
    "\n",
    "__Alternative Hypothesis: _The time for naming colours for congruent lists is significant less than the time for naming colours in the incongruent lists within the population_. $$H_a:\\mu_C < \\mu_{NC}$$__ \n",
    "\n",
    "__The dependent variable is the time taken to spell the colors.__\n",
    "\n",
    "__The independent variable is the property of the list: whether it is congruent or not congruent.__\n",
    "\n",
    "__Tests are appariated hence dependent: the same individual is used for the incongruent and the congruent list. They follow the same probability law so that we can consider the mean of the difference and compare to zero and as we do not know the standard deviation, we will use a t-test (Student test) with 23 degrees of freedom (N-1) to evaluate the hypotheses.__"
   ]
  },
  {
   "cell_type": "markdown",
   "metadata": {},
   "source": [
    "Let us now focus on the experiments we have got. Measurements have been perfomed on a sample of 24 individuals.\n",
    "The csv file is attached below with all calculations made in Google sheets that we will reconduct in this jupyter notebook to check and give more graphical illustrations.\n"
   ]
  },
  {
   "cell_type": "markdown",
   "metadata": {},
   "source": [
    "## Import modules"
   ]
  },
  {
   "cell_type": "code",
   "execution_count": 9,
   "metadata": {
    "collapsed": true
   },
   "outputs": [],
   "source": [
    "# All imports needed to perform the whole project:\n",
    "\n",
    "import unicodecsv\n",
    "import numpy as np\n",
    "import pandas as pd\n",
    "import matplotlib.pyplot as plt\n",
    "import seaborn as sns\n",
    "import statsmodels.api as sm\n",
    "from scipy.stats import jarque_bera as jb \n",
    "from scipy.stats import norm\n",
    "from scipy.stats import pearsonr\n",
    "from scipy.stats import shapiro\n",
    "from scipy.stats import kstest\n",
    "from scipy.stats import anderson\n",
    "import scipy.stats as stats\n",
    "% matplotlib inline\n"
   ]
  },
  {
   "cell_type": "markdown",
   "metadata": {},
   "source": [
    "## Reading data frames"
   ]
  },
  {
   "cell_type": "code",
   "execution_count": 10,
   "metadata": {
    "collapsed": false
   },
   "outputs": [
    {
     "name": "stdout",
     "output_type": "stream",
     "text": [
      "   Congruent  Incongruent\n",
      "0     12.079       19.278\n",
      "1     16.791       18.741\n",
      "2      9.564       21.214\n",
      "3      8.630       15.687\n",
      "4     14.669       22.803\n",
      "(24, 2)\n"
     ]
    }
   ],
   "source": [
    "samples = pd.read_csv('stroopdata.csv')\n",
    "print samples.head(5)\n",
    "print samples.shape\n",
    "length = samples.shape[0]"
   ]
  },
  {
   "cell_type": "markdown",
   "metadata": {},
   "source": [
    "## Descriptive statistics"
   ]
  },
  {
   "cell_type": "markdown",
   "metadata": {},
   "source": [
    "### Show main statistics"
   ]
  },
  {
   "cell_type": "code",
   "execution_count": 11,
   "metadata": {
    "collapsed": false,
    "scrolled": false
   },
   "outputs": [
    {
     "name": "stdout",
     "output_type": "stream",
     "text": [
      "       Congruent  Incongruent\n",
      "count  24.000000    24.000000\n",
      "mean   14.051125    22.015917\n",
      "std     3.559358     4.797057\n",
      "min     8.630000    15.687000\n",
      "25%    11.895250    18.716750\n",
      "50%    14.356500    21.017500\n",
      "75%    16.200750    24.051500\n",
      "max    22.328000    35.255000\n",
      "Axes(0.125,0.125;0.775x0.755)\n",
      "    Congruent  Incongruent\n",
      "0      12.079       19.278\n",
      "1      16.791       18.741\n",
      "2       9.564       21.214\n",
      "3       8.630       15.687\n",
      "4      14.669       22.803\n",
      "5      12.238       20.878\n",
      "6      14.692       24.572\n",
      "7       8.987       17.394\n",
      "8       9.401       20.762\n",
      "9      14.480       26.282\n",
      "10     22.328       24.524\n",
      "11     15.298       18.644\n",
      "12     15.073       17.510\n",
      "13     16.929       20.330\n",
      "14     18.200       35.255\n",
      "15     12.130       22.158\n",
      "16     18.495       25.139\n",
      "17     10.639       20.429\n",
      "18     11.344       17.425\n",
      "19     12.369       34.288\n",
      "20     12.944       23.894\n",
      "21     14.233       17.960\n",
      "22     19.710       22.058\n",
      "23     16.004       21.157\n"
     ]
    },
    {
     "data": {
      "image/png": "[encoded data removed]",
      "text/plain": [
       "<matplotlib.figure.Figure at 0xcce4400>"
      ]
     },
     "metadata": {},
     "output_type": "display_data"
    }
   ],
   "source": [
    "print samples.describe()\n",
    "print samples.boxplot(sym='b*')\n",
    "print samples"
   ]
  },
  {
   "cell_type": "markdown",
   "metadata": {},
   "source": [
    "### Plot distributions"
   ]
  },
  {
   "cell_type": "code",
   "execution_count": 12,
   "metadata": {
    "collapsed": false
   },
   "outputs": [
    {
     "name": "stdout",
     "output_type": "stream",
     "text": [
      "[[<matplotlib.axes._subplots.AxesSubplot object at 0x000000000CDD0208>\n",
      "  <matplotlib.axes._subplots.AxesSubplot object at 0x000000000D3EE7F0>]]\n"
     ]
    },
    {
     "data": {
      "image/png": "[encoded data removed]",
      "text/plain": [
       "<matplotlib.figure.Figure at 0xd2fc278>"
      ]
     },
     "metadata": {},
     "output_type": "display_data"
    }
   ],
   "source": [
    "print samples.hist(bins=15)"
   ]
  },
  {
   "cell_type": "markdown",
   "metadata": {},
   "source": [
    "Distributions are quite irregular and two outliers have been detected for the second one.\n",
    "But we can notice that the means are in a consistent order and that the standard deviation is relatively small compared to the mean. The central limit theorem should then give a satisfactory gaussian approach with good test results.\n",
    "\n",
    "However the above distributions are quite far from a normal as some statistical tests of normality can give.\n",
    "For example the Agostino test will reject H0 from an alpha-level of 0.65 which is quite large.\n",
    "The size of the sample can also be too small for normality tests as proved below by results obtained for a normal distribution.\n"
   ]
  },
  {
   "cell_type": "code",
   "execution_count": 13,
   "metadata": {
    "collapsed": false
   },
   "outputs": [
    {
     "name": "stdout",
     "output_type": "stream",
     "text": [
      "Test d'Agostino : NormaltestResult(statistic=0.85207026495984284, pvalue=0.653093396926963)\n",
      "Test de Shapiro-Wilk : (0.970922589302063, 0.689803421497345)\n",
      "Test d'Anderson : AndersonResult(statistic=0.20967491830768026, critical_values=array([ 0.513,  0.584,  0.701,  0.817,  0.972]), significance_level=array([ 15. ,  10. ,   5. ,   2.5,   1. ]))\n",
      "Test de Jarque-Berca : (0.77351762432515658, 0.67925490319272119)\n",
      "Test de Kolmogorov-Smirnov : KstestResult(statistic=1.0, pvalue=0.0)\n",
      "Test d'Agostino : NormaltestResult(statistic=13.256131677149474, pvalue=0.0013227189654814793)\n",
      "Test de Shapiro-Wilk : (0.85394686460495, 0.0025900385808199644)\n",
      "Test d'Anderson : AndersonResult(statistic=1.0695574430921866, critical_values=array([ 0.513,  0.584,  0.701,  0.817,  0.972]), significance_level=array([ 15. ,  10. ,   5. ,   2.5,   1. ]))\n",
      "Test de Jarque-Berca : (12.088193421516269, 0.0023718223132296323)\n",
      "Test de Kolmogorov-Smirnov : KstestResult(statistic=1.0, pvalue=0.0)\n",
      "[[<matplotlib.axes._subplots.AxesSubplot object at 0x000000000D505908>]]\n",
      "Test d'Agostino : NormaltestResult(statistic=0.45333439885978466, pvalue=0.79718604211767918)\n",
      "Test de Shapiro-Wilk : (0.9837431907653809, 0.7165243029594421)\n",
      "Test d'Anderson : AndersonResult(statistic=0.28882571889300124, critical_values=array([ 0.538,  0.613,  0.736,  0.858,  1.021]), significance_level=array([ 15. ,  10. ,   5. ,   2.5,   1. ]))\n",
      "Test de Jarque-Berca : (0.52424821628775764, 0.76941552704880833)\n",
      "Test de Kolmogorov-Smirnov : KstestResult(statistic=0.14520205752212234, pvalue=0.22026048183772029)\n"
     ]
    },
    {
     "data": {
      "image/png": "[encoded data removed]",
      "text/plain": [
       "<matplotlib.figure.Figure at 0xd6cc908>"
      ]
     },
     "metadata": {},
     "output_type": "display_data"
    }
   ],
   "source": [
    "def normality(vec):\n",
    "    \"\"\" Evaluate the normality of a sample according to various standard tests \"\"\"\n",
    "    print \"Test d'Agostino : {}\\nTest de Shapiro-Wilk : {}\\nTest d'Anderson : {}\\nTest de Jarque-Berca : {}\\nTest de Kolmogorov-Smirnov : {}\".format(\n",
    "    stats.mstats.normaltest(vec),shapiro(vec, a=None, reta=False),anderson(vec, dist='norm'),jb(vec),kstest(vec,'norm'))\n",
    "    \n",
    "normality(samples['Congruent'])\n",
    "normality(samples['Incongruent'])\n",
    "\n",
    "pts = 50\n",
    "a = np.random.normal(0, 1, size=pts)\n",
    "print pd.DataFrame(a).hist()\n",
    "\n",
    "normality(a)\n",
    "\n"
   ]
  },
  {
   "cell_type": "markdown",
   "metadata": {},
   "source": [
    "## Perform test"
   ]
  },
  {
   "cell_type": "markdown",
   "metadata": {
    "collapsed": true
   },
   "source": [
    "We base on the difference of the two samples and we test against zero:\n",
    "\n",
    "__Null Hypothesis: $$ H_0: \\mu_{NC} - \\mu_C=0$$__\n",
    "\n",
    "__Alternative Hypothesis:  $$H_a: \\mu_{NC} - \\mu_C > 0$$__\n",
    "\n",
    "We compute the t_value where $\\sigma$ is the standard deviation of the difference $t_{NC}-t_C$ and n the size of the sample (here 24):$$tvalue=(\\mu_{NC} - \\mu_C)/(\\sigma/\\sqrt n)$$\n",
    "\n",
    "Find attached first some calculations made in a google sheet:\n",
    "<img src=\"Strooptest-gs.jpg\" />\n",
    "\n",
    "\n",
    "The csv file is accessible in the folder.\n",
    "\n"
   ]
  },
  {
   "cell_type": "code",
   "execution_count": 14,
   "metadata": {
    "collapsed": false
   },
   "outputs": [
    {
     "name": "stdout",
     "output_type": "stream",
     "text": [
      "[  7.199   1.95   11.65    7.057   8.134   8.64    9.88    8.407  11.361\n",
      "  11.802   2.196   3.346   2.437   3.401  17.055  10.028   6.644   9.79\n",
      "   6.081  21.919  10.95    3.727   2.348   5.153]\n",
      "7.96479166667\n",
      "7.96479166667 4.86482691036 24 8.02070694411\n",
      "Cohen distance =  1.63721994912\n"
     ]
    }
   ],
   "source": [
    "diff=np.array(samples['Incongruent']-samples['Congruent'])\n",
    "print diff\n",
    "m=diff.mean()\n",
    "print m\n",
    "s=diff.std(ddof=1)\n",
    "n=diff.shape[0]\n",
    "t_value=(m-0.)/(s/np.sqrt(n))\n",
    "print m,s,n,t_value\n",
    "cd = (m-0.)/s\n",
    "print \"Cohen distance = \", cd"
   ]
  },
  {
   "cell_type": "markdown",
   "metadata": {},
   "source": [
    "## Draw conclusions"
   ]
  },
  {
   "cell_type": "markdown",
   "metadata": {
    "collapsed": true
   },
   "source": [
    "We then compare to t critical values as given by the t-table or a specific statistical function (dependent tests).\n",
    "It is clear that H0 can be rejected with a very small level of risk."
   ]
  },
  {
   "cell_type": "code",
   "execution_count": 15,
   "metadata": {
    "collapsed": false
   },
   "outputs": [
    {
     "name": "stdout",
     "output_type": "stream",
     "text": [
      "1.71387152775\n",
      "3.4849643748\n",
      "4.41520470501\n",
      "0.999999979485\n"
     ]
    }
   ],
   "source": [
    "Student = stats.t.ppf(0.95,df=23)\n",
    "print Student\n",
    "Student = stats.t.ppf(0.999,df=23)\n",
    "print Student\n",
    "Student = stats.t.ppf(0.9999,df=23)\n",
    "print Student\n",
    "Proba = stats.t.cdf(t_value,df=23)\n",
    "print Proba"
   ]
  },
  {
   "cell_type": "markdown",
   "metadata": {
    "collapsed": true
   },
   "source": [
    "The probability that for the population the expectation for incongruent list is greater than for congruent list is almost one. \n",
    "The null hypothesis can be rejected with a very high level of significance.\n",
    "We are almost sure that incongruence slows down the reading and interpretation of a list of words\n",
    "\n",
    "Remark: The fact that the list is purely congruent can help making it read more quickly, because after a couple of words, the reader understands the mechanism and reads much faster.\n",
    "It would be better to base on mixed tests with a varying proportion of congruent and incongruent words. Then it could be that the difference is less important.\n"
   ]
  }
 ],
 "metadata": {
  "kernelspec": {
   "display_name": "Python 2",
   "language": "python",
   "name": "python2"
  },
  "language_info": {
   "codemirror_mode": {
    "name": "ipython",
    "version": 2
   },
   "file_extension": ".py",
   "mimetype": "text/x-python",
   "name": "python",
   "nbconvert_exporter": "python",
   "pygments_lexer": "ipython2",
   "version": "2.7.13"
  }
 },
 "nbformat": 4,
 "nbformat_minor": 2
}
